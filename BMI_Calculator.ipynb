{
 "cells": [
  {
   "cell_type": "markdown",
   "id": "fec528f1-c61b-4410-921a-20970eef7363",
   "metadata": {},
   "source": [
    "Under 18.5\tUnderweight\tMinimal\n",
    "18.5 - 24.9\tNormal Weight\tMinimal\n",
    "25 - 29.9\tOverweight\tIncreased\n",
    "30 - 34.9\tObese\tHigh\n",
    "35 - 39.9\tSeverely Obese\tVery High\n",
    "40 and over\tMorbidly Obese\tExtremely High"
   ]
  },
  {
   "cell_type": "code",
   "execution_count": 15,
   "id": "17368bdf-92d8-47cf-ab38-c5f6ae764a68",
   "metadata": {},
   "outputs": [
    {
     "name": "stdin",
     "output_type": "stream",
     "text": [
      "Enter you name:  Rahul\n",
      "Enter your weight in pounds:  180\n",
      "Enter your height in inches:  89\n"
     ]
    },
    {
     "name": "stdout",
     "output_type": "stream",
     "text": [
      "15.9752556495392\n",
      "Rahul, you are underwight.\n"
     ]
    }
   ],
   "source": [
    "name = input(\"Enter you name: \")\n",
    "\n",
    "weight = int(input(\"Enter your weight in pounds: \"))\n",
    "\n",
    "height = int(input(\"Enter your height in inches: \"))\n",
    "\n",
    "BMI = (weight * 703) / (height * height)\n",
    "\n",
    "print(BMI)\n",
    "\n",
    "if BMI>0:\n",
    "    if(BMI<18.5):\n",
    "        print(name +\", you are underwight.\")\n",
    "    elif (BMI<=24.9):\n",
    "        print(name +\", you are normal weight.\")\n",
    "    elif (BMI<29.9):\n",
    "        print(name +\", you are overweight. You need to exercise more and stop sitting and writing so many python tutorials.\")\n",
    "    elif (BMI<34.9):\n",
    "        print(name +\", you are obese.\")\n",
    "    elif (BMI<39.9):\n",
    "        print(name +\", you are severely obese.\")\n",
    "    else:\n",
    "        print(name +\", you are morbidly obese.\")\n",
    "else:\n",
    "    print(\"Enter valid input\")"
   ]
  },
  {
   "cell_type": "code",
   "execution_count": null,
   "id": "5449c066-9477-47f7-8024-2e10ae136b20",
   "metadata": {},
   "outputs": [],
   "source": []
  }
 ],
 "metadata": {
  "kernelspec": {
   "display_name": "Python 3 (ipykernel)",
   "language": "python",
   "name": "python3"
  },
  "language_info": {
   "codemirror_mode": {
    "name": "ipython",
    "version": 3
   },
   "file_extension": ".py",
   "mimetype": "text/x-python",
   "name": "python",
   "nbconvert_exporter": "python",
   "pygments_lexer": "ipython3",
   "version": "3.12.4"
  }
 },
 "nbformat": 4,
 "nbformat_minor": 5
}
